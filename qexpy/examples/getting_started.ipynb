{
 "cells": [
  {
   "cell_type": "markdown",
   "metadata": {},
   "source": [
    "# Getting Started"
   ]
  },
  {
   "cell_type": "code",
   "execution_count": 1,
   "metadata": {},
   "outputs": [],
   "source": [
    "import qexpy as q"
   ]
  },
  {
   "cell_type": "markdown",
   "metadata": {},
   "source": [
    "The core of QExPy is a data structure called ```ExperimentalValue```, which represents a value with an uncertainty. Any measurements recorded with QExPy and the result of any data analysis done with these measurements will all be wrapped in an instance of this class."
   ]
  },
  {
   "cell_type": "code",
   "execution_count": 2,
   "metadata": {},
   "outputs": [
    {
     "name": "stdout",
     "output_type": "stream",
     "text": [
      "mass = 15.0 +/- 0.5 [kg]\n"
     ]
    }
   ],
   "source": [
    "# a measurement can be taken with a value, an uncertainty, a unit and a name \n",
    "# (the last two are optional)\n",
    "m = q.Measurement(15, 0.5, unit=\"kg\", name=\"mass\")\n",
    "print(m)"
   ]
  },
  {
   "cell_type": "code",
   "execution_count": 3,
   "metadata": {},
   "outputs": [
    {
     "name": "stdout",
     "output_type": "stream",
     "text": [
      "Mean: 5.0\n",
      "Error on the mean: 0.10327955589886441\n",
      "Standard deviation: 0.2529822128134702\n"
     ]
    }
   ],
   "source": [
    "# multiple measurements can be taken towards the same quantity\n",
    "t = q.Measurement([5, 4.9, 5.3, 4.7, 4.8, 5.3], unit=\"s\", name=\"time\")\n",
    "\n",
    "# this measurement will contain some basic statistic properties\n",
    "print(\"Mean: {}\".format(t.mean))\n",
    "print(\"Error on the mean: {}\".format(t.error_on_mean))\n",
    "print(\"Standard deviation: {}\".format(t.std))"
   ]
  },
  {
   "cell_type": "code",
   "execution_count": 4,
   "metadata": {},
   "outputs": [
    {
     "name": "stdout",
     "output_type": "stream",
     "text": [
      "time = 5.0 +/- 0.1 [s]\n"
     ]
    }
   ],
   "source": [
    "# by default, the mean and error on the mean are used for this measurement\n",
    "print(t)"
   ]
  },
  {
   "cell_type": "code",
   "execution_count": 5,
   "metadata": {},
   "outputs": [
    {
     "name": "stdout",
     "output_type": "stream",
     "text": [
      "time = 5.0 +/- 0.3 [s]\n"
     ]
    }
   ],
   "source": [
    "# however, you can change that if you want\n",
    "t.use_std_for_uncertainty()\n",
    "print(t)"
   ]
  },
  {
   "cell_type": "code",
   "execution_count": 6,
   "metadata": {},
   "outputs": [
    {
     "name": "stdout",
     "output_type": "stream",
     "text": [
      "acceleration = 2.0 +/- 0.1 [m⋅s^-2]\n"
     ]
    }
   ],
   "source": [
    "# let's do some calculations with measurements\n",
    "vi = q.Measurement(0, unit=\"m/s\", name=\"initial speed\")\n",
    "vf = q.Measurement(10, 0.5, unit=\"m/s\", name=\"final speed\")\n",
    "a = (vf - vi) / t  # acceleration\n",
    "a.name = \"acceleration\"\n",
    "print(a)"
   ]
  },
  {
   "cell_type": "code",
   "execution_count": 7,
   "metadata": {},
   "outputs": [
    {
     "name": "stdout",
     "output_type": "stream",
     "text": [
      "force = 30 +/- 2 [kg⋅m⋅s^-2]\n"
     ]
    }
   ],
   "source": [
    "f = m * a\n",
    "f.name = \"force\"\n",
    "# as you can see below, the errors as well as units are propagated properly.\n",
    "print(f)"
   ]
  },
  {
   "cell_type": "markdown",
   "metadata": {},
   "source": [
    "## Methods of Error Propagation"
   ]
  },
  {
   "cell_type": "markdown",
   "metadata": {},
   "source": [
    "There are two error methods supported by QExPy.\n",
    "\n",
    "#### Derivative Method (default)\n",
    "\n",
    "By default, QExPy propagates the uncertainties using the \"derivative\" method. That is, for a function, $f(x,y)$, that depends on measured quantities $x\\pm\\sigma_x$ and $y\\pm\\sigma_y$, with covariance $\\sigma_{xy}$ between the two measured quantities, the uncertainty in $f$ is given by:\n",
    "\n",
    "$$ \\sigma_f = \\sqrt{ \\left(\\frac{\\partial f}{\\partial x} \\sigma_x \\right)^2 + \\left(\\frac{\\partial f}{\\partial y} \\sigma_y \\right)^2 + 2 \\frac{\\partial f}{\\partial x} \\frac{\\partial f}{\\partial y}\\sigma_{xy} }$$\n",
    "\n",
    "Although the derivative method is commonly taught in undergraduate laboratories, it is only valid when the relative uncertainties in the quantities being propagated are small (e.g. less than ~10% relative uncertainty). This method is thus not strongly encouraged, although it has been made the default because it is so prevalent in undergraduate teaching.\n",
    "\n",
    "#### Monte Carlo Method (recommanded)\n",
    "\n",
    "The MC method is based on a statiscal understanding of the measurements. In the QExPy implementation, currently, the main assumptions is that the uncertainty in a quantity is given by a \"standard error\"; that is, if $x = 10\\pm 1$, then we *assume* that this error and uncertainty should be interpreted as: \"if we measure $x$ multiple times, we will obtain a set of measurements that are normally distributed with a mean of 10 and a standard deviation of 1\". In other words, we assume that $x$ has a 68% chance of being in the range between 9 and 11.\n",
    "\n",
    "The MC method then uses the assumption that measured quantities are normally distributed and use this to propagate the errors by using Monte Carlo simulation. Suppose that we have measured $x$ and $y$ and wish to determine the central value and uncertainty in $x=x+y$. The Monte Carlo method will generate normally distributed random values for $x$ and $y$ (the random numbers will be correctly correlated if the user has indicated that $x$ and $y$ are correlated), then it will add those random values together, to obtain a set of values for $z$. The mean and standard deviation of the random values for $z$ are taken as the central value and uncertainty in $z$. "
   ]
  },
  {
   "cell_type": "code",
   "execution_count": 8,
   "metadata": {},
   "outputs": [
    {
     "name": "stdout",
     "output_type": "stream",
     "text": [
      "force = 30.08 +/- 2.38 [kg⋅m⋅s^-2]\n"
     ]
    },
    {
     "data": {
      "image/png": "[encoded data removed]",
      "text/plain": [
       "<Figure size 432x288 with 1 Axes>"
      ]
     },
     "metadata": {
      "needs_background": "light"
     },
     "output_type": "display_data"
    }
   ],
   "source": [
    "# first change the number of significant figures so that we can see the difference\n",
    "q.set_sig_figs_for_error(3)\n",
    "\n",
    "# you can change the error method\n",
    "q.set_error_method(q.ErrorMethod.MONTE_CARLO)\n",
    "print(f)\n",
    "\n",
    "# you can see the histogram of samples from the Monte Carlo simulation\n",
    "f.mc.show_histogram()"
   ]
  },
  {
   "cell_type": "markdown",
   "metadata": {},
   "source": [
    "In the above example, the result of a Monte Carlo simulation has a perfect Gaussian distribution. However, this might not always be the case."
   ]
  },
  {
   "cell_type": "code",
   "execution_count": 9,
   "metadata": {},
   "outputs": [
    {
     "name": "stdout",
     "output_type": "stream",
     "text": [
      "0.848 +/- 0.436 [kg^2⋅m^-2]\n"
     ]
    },
    {
     "data": {
      "image/png": "[encoded data removed]",
      "text/plain": [
       "<Figure size 432x288 with 1 Axes>"
      ]
     },
     "metadata": {
      "needs_background": "light"
     },
     "output_type": "display_data"
    }
   ],
   "source": [
    "# let's try calculating the gravitational force between two stars\n",
    "\n",
    "G = 6.67384e-11  # the gravitational constant\n",
    "m1 = q.Measurement(40e4, 2e4, name=\"m1\", unit=\"kg\")\n",
    "m2 = q.Measurement(30e4, 10e4, name=\"m2\", unit=\"kg\")\n",
    "r = q.Measurement(3.2, 0.5, name=\"distance\", unit=\"m\")\n",
    "\n",
    "f = G * m1 * m2 / (r ** 2)\n",
    "print(f)\n",
    "\n",
    "f.mc.show_histogram()"
   ]
  },
  {
   "cell_type": "markdown",
   "metadata": {},
   "source": [
    "As you can see, in this case, the mean and standard deviation of the distribution doesn't quite capture the center value and uncertainty we are looking for. We can try a different strategy where we find the mode (most probably value) of the distribution, and a confidence range."
   ]
  },
  {
   "cell_type": "code",
   "execution_count": 10,
   "metadata": {},
   "outputs": [
    {
     "data": {
      "image/png": "[encoded data removed]",
      "text/plain": [
       "<Figure size 432x288 with 1 Axes>"
      ]
     },
     "metadata": {
      "needs_background": "light"
     },
     "output_type": "display_data"
    },
    {
     "name": "stdout",
     "output_type": "stream",
     "text": [
      "0.632 +/- 0.339 [kg^2⋅m^-2]\n"
     ]
    }
   ],
   "source": [
    "# change the mc strategy\n",
    "f.mc.use_mode_with_confidence()\n",
    "\n",
    "# show the histogram again\n",
    "f.mc.show_histogram()\n",
    "\n",
    "# also print the value\n",
    "print(f)"
   ]
  },
  {
   "cell_type": "markdown",
   "metadata": {},
   "source": [
    "By default, the confidence level is 68%, but we can change that."
   ]
  },
  {
   "cell_type": "code",
   "execution_count": 11,
   "metadata": {},
   "outputs": [
    {
     "data": {
      "image/png": "[encoded data removed]",
      "text/plain": [
       "<Figure size 432x288 with 1 Axes>"
      ]
     },
     "metadata": {
      "needs_background": "light"
     },
     "output_type": "display_data"
    },
    {
     "name": "stdout",
     "output_type": "stream",
     "text": [
      "0.632 +/- 0.254 [kg^2⋅m^-2]\n"
     ]
    }
   ],
   "source": [
    "# change the confidence\n",
    "f.mc.confidence = 0.5\n",
    "\n",
    "# show the histogram again\n",
    "f.mc.show_histogram()\n",
    "\n",
    "# also print the value\n",
    "print(f)"
   ]
  },
  {
   "cell_type": "markdown",
   "metadata": {},
   "source": [
    "As you can see, most of the samples are concentrated in the first half of the histogram. In order to increase resolution, the user can manually set the range of the histogram to focus on the region with the most samples."
   ]
  },
  {
   "cell_type": "code",
   "execution_count": 12,
   "metadata": {},
   "outputs": [
    {
     "data": {
      "image/png": "[encoded data removed]",
      "text/plain": [
       "<Figure size 432x288 with 1 Axes>"
      ]
     },
     "metadata": {
      "needs_background": "light"
     },
     "output_type": "display_data"
    }
   ],
   "source": [
    "# try show histogram again\n",
    "f.mc.show_histogram(range=(-1,4))"
   ]
  },
  {
   "cell_type": "markdown",
   "metadata": {},
   "source": [
    "If you feel like this subset of the distribution is somewhat more representative of the quantity, you can set the range for Monte Carlo simulation to this interval"
   ]
  },
  {
   "cell_type": "code",
   "execution_count": 13,
   "metadata": {},
   "outputs": [
    {
     "name": "stdout",
     "output_type": "stream",
     "text": [
      "0.844 +/- 0.421 [kg^2⋅m^-2]\n"
     ]
    },
    {
     "data": {
      "image/png": "[encoded data removed]",
      "text/plain": [
       "<Figure size 432x288 with 1 Axes>"
      ]
     },
     "metadata": {
      "needs_background": "light"
     },
     "output_type": "display_data"
    }
   ],
   "source": [
    "# try setting the range\n",
    "f.mc.set_xrange(-1, 3.5)\n",
    "f.mc.use_mean_and_std()  # let's see what the mean and std is now\n",
    "print(f)\n",
    "f.mc.show_histogram()"
   ]
  },
  {
   "cell_type": "markdown",
   "metadata": {},
   "source": [
    "## Print Style and Formatting"
   ]
  },
  {
   "cell_type": "code",
   "execution_count": 14,
   "metadata": {},
   "outputs": [
    {
     "name": "stdout",
     "output_type": "stream",
     "text": [
      "0.844 +/- 0.421 [kg^2⋅m^-2] (the value has 3 significant figures)\n",
      "0.844 +/- 0.421 [kg^2⋅m^-2] (the uncertainty has 3 significant figures)\n"
     ]
    }
   ],
   "source": [
    "# you can specify the precision of the values\n",
    "q.set_sig_figs_for_value(3)\n",
    "print(\"{} (the value has 3 significant figures)\".format(f))\n",
    "q.set_sig_figs_for_error(3)\n",
    "print(\"{} (the uncertainty has 3 significant figures)\".format(f))"
   ]
  },
  {
   "cell_type": "code",
   "execution_count": 15,
   "metadata": {},
   "outputs": [
    {
     "name": "stdout",
     "output_type": "stream",
     "text": [
      "(8.44 +/- 4.21) * 10^-1 [kg^2⋅m^-2]\n",
      "(8.44 \\pm 4.21) * 10^-1 [kg^2⋅m^-2]\n",
      "0.844 +/- 0.421 [kg^2⋅m^-2]\n"
     ]
    }
   ],
   "source": [
    "# you can change the print formatting\n",
    "q.set_print_style(q.PrintStyle.SCIENTIFIC)\n",
    "print(f)\n",
    "q.set_print_style(q.PrintStyle.LATEX)\n",
    "print(f)\n",
    "# or reset it to default\n",
    "q.set_print_style(q.PrintStyle.DEFAULT)\n",
    "print(f)"
   ]
  },
  {
   "cell_type": "code",
   "execution_count": 16,
   "metadata": {},
   "outputs": [
    {
     "name": "stdout",
     "output_type": "stream",
     "text": [
      "default (exponent) style unit printing: kg^2⋅m^-2\n",
      "fraction style unit printing: kg^2/m^2\n",
      "\n",
      "The complete value representation will change accordingly:\n",
      "0.844 +/- 0.421 [kg^2/m^2]\n"
     ]
    }
   ],
   "source": [
    "# you can change the style of how units are displayed\n",
    "q.set_unit_style(q.UnitStyle.EXPONENTS)  # this is the default\n",
    "print(\"default (exponent) style unit printing: {}\".format(f.unit))\n",
    "q.set_unit_style(q.UnitStyle.FRACTION)  # more intuitive but sometimes ambiguous\n",
    "print(\"fraction style unit printing: {}\".format(f.unit))\n",
    "\n",
    "# print the complete value\n",
    "print(\"\\nThe complete value representation will change accordingly:\\n{}\".format(f))"
   ]
  },
  {
   "cell_type": "markdown",
   "metadata": {},
   "source": [
    "## Correlated Measurements"
   ]
  },
  {
   "cell_type": "markdown",
   "metadata": {},
   "source": [
    "Sometimes when two series of measurements are correlated, the error propagation should reflect that. It's worth noting that repeated measurements of the same length are not automatically correlated. Whether two measurements are physically correlated is at the discretion of the user. There are two values related to correlated measurements. The \"covariance\" indicates the extent to which two random variables change in tandem, and \"correlation\" is indicates how strongly two variables are related, which is confined between -1 and 1"
   ]
  },
  {
   "cell_type": "code",
   "execution_count": 17,
   "metadata": {},
   "outputs": [
    {
     "name": "stdout",
     "output_type": "stream",
     "text": [
      "40.275 +/- 0.135\n"
     ]
    }
   ],
   "source": [
    "q.reset_default_configuration()  # first reset everything to default\n",
    "q.set_sig_figs_for_error(3)\n",
    "\n",
    "# first let's take two series of measurements\n",
    "m1 = q.Measurement([20, 20.2, 20.3, 20.4])\n",
    "m2 = q.Measurement([20, 20.1, 19.8, 20.3])\n",
    "\n",
    "result = m1 + m2\n",
    "print(result)"
   ]
  },
  {
   "cell_type": "code",
   "execution_count": 18,
   "metadata": {},
   "outputs": [
    {
     "name": "stdout",
     "output_type": "stream",
     "text": [
      "Covariance: 0.011666666666666523\n",
      "Correlation: 0.3281650616569432\n"
     ]
    }
   ],
   "source": [
    "# let's say m1 and m2 are measured together, and they might be correlated\n",
    "q.set_correlation(m1, m2)  # this declares the correlation\n",
    "\n",
    "# since m1 and m2 are of the same length, QExPy is able to calculate the covariance\n",
    "cor = q.get_correlation(m1, m2)\n",
    "cov = q.get_covariance(m1, m2)\n",
    "print(\"Covariance: {}\\nCorrelation: {}\".format(cov, cor))"
   ]
  },
  {
   "cell_type": "code",
   "execution_count": 19,
   "metadata": {},
   "outputs": [
    {
     "name": "stdout",
     "output_type": "stream",
     "text": [
      "40.275 +/- 0.155\n"
     ]
    }
   ],
   "source": [
    "# as a result, the error will be recalculated\n",
    "result.recalculate()  # since something changed, this ensures that everything is updated\n",
    "print(result)"
   ]
  },
  {
   "cell_type": "code",
   "execution_count": 20,
   "metadata": {},
   "outputs": [
    {
     "name": "stdout",
     "output_type": "stream",
     "text": [
      "40.272 +/- 0.153\n"
     ]
    }
   ],
   "source": [
    "# the monte carlo simulated results will also be properly correlated\n",
    "result.recalculate()\n",
    "q.set_error_method(q.ErrorMethod.MONTE_CARLO)\n",
    "print(result)"
   ]
  },
  {
   "cell_type": "code",
   "execution_count": 21,
   "metadata": {},
   "outputs": [
    {
     "name": "stdout",
     "output_type": "stream",
     "text": [
      "40.275 +/- 0.180\n",
      "40.276 +/- 0.180\n"
     ]
    }
   ],
   "source": [
    "# the user can personally set the correlation between two values\n",
    "q.set_correlation(m1, m2, 0.8)\n",
    "# q.set_covariance(m1, m2, 0.02)\n",
    "\n",
    "result.recalculate()  # first ask that the value is updated\n",
    "\n",
    "q.set_error_method(q.ErrorMethod.DERIVATIVE)\n",
    "print(result)\n",
    "q.set_error_method(q.ErrorMethod.MONTE_CARLO)\n",
    "print(result)"
   ]
  },
  {
   "cell_type": "markdown",
   "metadata": {},
   "source": [
    "## Measurement Arrays"
   ]
  },
  {
   "cell_type": "markdown",
   "metadata": {},
   "source": [
    "QExPy can also handle a series of measurements with ```MeasurementArray```, which is an array of individual measurements, each with an uncertainty. This is a sub-class of ```numpy.ndarray```, so it can be operated on as one."
   ]
  },
  {
   "cell_type": "code",
   "execution_count": 22,
   "metadata": {},
   "outputs": [
    {
     "name": "stdout",
     "output_type": "stream",
     "text": [
      "length = [ 1.00 +/- 0.50, 2.00 +/- 0.50, 3.00 +/- 0.50, 4.00 +/- 0.50, 5.00 +/- 0.50 ] (m)\n"
     ]
    }
   ],
   "source": [
    "q.reset_default_configuration()\n",
    "q.set_sig_figs_for_error(2)\n",
    "\n",
    "# you can record an array with the same uncertainty throughout\n",
    "arr1 = q.MeasurementArray([1, 2, 3, 4, 5], 0.5, name=\"length\", unit=\"m\")\n",
    "print(arr1)"
   ]
  },
  {
   "cell_type": "code",
   "execution_count": 23,
   "metadata": {},
   "outputs": [
    {
     "name": "stdout",
     "output_type": "stream",
     "text": [
      "[ 1.0 +/- 0, 2.0 +/- 0, 3.0 +/- 0, 4.0 +/- 0, 5.0 +/- 0 ]\n"
     ]
    }
   ],
   "source": [
    "# if the error is left out, it's by default set to 0\n",
    "arr2 = q.MeasurementArray([1, 2, 3, 4, 5])\n",
    "print(arr2)"
   ]
  },
  {
   "cell_type": "code",
   "execution_count": 24,
   "metadata": {},
   "outputs": [
    {
     "name": "stdout",
     "output_type": "stream",
     "text": [
      "length = [ 1.00 +/- 0.10, 2.00 +/- 0.20, 3.00 +/- 0.30, 4.00 +/- 0.40, 5.00 +/- 0.50 ] (m)\n"
     ]
    }
   ],
   "source": [
    "# you can record an array of measurement with distinct uncertainties\n",
    "arr3 = q.MeasurementArray(\n",
    "    [1, 2, 3, 4, 5], [0.1, 0.2, 0.3, 0.4, 0.5], name=\"length\", unit=\"m\")\n",
    "print(arr3)"
   ]
  },
  {
   "cell_type": "code",
   "execution_count": 25,
   "metadata": {},
   "outputs": [
    {
     "name": "stdout",
     "output_type": "stream",
     "text": [
      "length_2 = 3.00 +/- 0.30 [m]\n"
     ]
    }
   ],
   "source": [
    "# individual measurements can be extracted\n",
    "measurement = arr3[2]\n",
    "print(measurement)"
   ]
  },
  {
   "cell_type": "code",
   "execution_count": 26,
   "metadata": {},
   "outputs": [
    {
     "name": "stdout",
     "output_type": "stream",
     "text": [
      "Mean: mean of length = 3.00 +/- 0.71 [m]\n",
      "Sum: length = 15.00 +/- 0.74 [m]\n",
      "Standard Deviation: 1.5811388300841898\n",
      "Error Weighted Mean: 1.5600683241601823\n"
     ]
    }
   ],
   "source": [
    "# the measurement array has basic statistical uncertainties\n",
    "print(\"Mean: {}\".format(arr3.mean()))\n",
    "print(\"Sum: {}\".format(arr3.sum()))\n",
    "print(\"Standard Deviation: {}\".format(arr3.std()))\n",
    "print(\"Error Weighted Mean: {}\".format(arr3.error_weighted_mean()))"
   ]
  },
  {
   "cell_type": "code",
   "execution_count": 27,
   "metadata": {},
   "outputs": [
    {
     "name": "stdout",
     "output_type": "stream",
     "text": [
      "arr4 = [ 2.00 +/- 0.20, 3.00 +/- 0.30, 4.00 +/- 0.40, 5.00 +/- 0.50 ] (m)\n",
      "arr5 = [ 2.00 +/- 0.20, 3.00 +/- 0.30, 4.00 +/- 0.40, 5.00 +/- 0.50, 6.00 +/- 0.60 ] (m)\n",
      "arr6 = [ 3.00 +/- 0.30, 4.00 +/- 0.40, 5.00 +/- 0.50, 6.00 +/- 0.60, 7.00 +/- 0.70 ] (m)\n",
      "arr7 = [ 6.00 +/- 0.60, 2.00 +/- 0.20, 3.00 +/- 0.30, 4.00 +/- 0.40, 5.00 +/- 0.50 ] (m)\n"
     ]
    }
   ],
   "source": [
    "# basic operations with measurement arrays\n",
    "arr4 = arr3.delete(0)\n",
    "arr4.name = \"arr4\"\n",
    "print(arr4)\n",
    "arr5 = arr4.append((6, 0.6))\n",
    "arr5.name = \"arr5\"\n",
    "print(arr5)\n",
    "# operations can be chained\n",
    "arr6 = arr4.delete(0).append([(6, 0.6),(7, 0.7)])\n",
    "arr6.name = \"arr6\"\n",
    "print(arr6)\n",
    "arr7 = arr4.insert(0, (6, 0.6))\n",
    "arr7.name = \"arr7\"\n",
    "print(arr7)"
   ]
  },
  {
   "cell_type": "code",
   "execution_count": 28,
   "metadata": {},
   "outputs": [
    {
     "name": "stdout",
     "output_type": "stream",
     "text": [
      "arr7_0 = 6.00 +/- 0.60 [m]\n",
      "arr7_1 = 2.00 +/- 0.20 [m]\n",
      "arr7_2 = 3.00 +/- 0.30 [m]\n",
      "arr7_3 = 4.00 +/- 0.40 [m]\n",
      "arr7_4 = 5.00 +/- 0.50 [m]\n"
     ]
    }
   ],
   "source": [
    "# the index of variables are calculated accordingly\n",
    "for element in arr7:\n",
    "    print(element)"
   ]
  },
  {
   "cell_type": "markdown",
   "metadata": {},
   "source": [
    "## Math Functions"
   ]
  },
  {
   "cell_type": "markdown",
   "metadata": {},
   "source": [
    "QExPy includes wrappers for some basic math functions, which works on both individual values and measurement arrays. Available functions include basic trig functions such as ```sin```, ```cos```, ```tan```, and ```sec```, ```csc```, and other functions such as ```sqrt```, ```log```, ```exp```."
   ]
  },
  {
   "cell_type": "code",
   "execution_count": 29,
   "metadata": {},
   "outputs": [
    {
     "name": "stdout",
     "output_type": "stream",
     "text": [
      "time = 1.2771 +/- 0.0080 [s]\n"
     ]
    }
   ],
   "source": [
    "# for example, try finding out the time it takes for an object to fall 8 meters\n",
    "h = q.Measurement(8,0.1)\n",
    "g = 9.81\n",
    "t = q.sqrt(2*h/g)\n",
    "t.name = \"time\"\n",
    "t.unit = \"s\"\n",
    "print(t)"
   ]
  },
  {
   "cell_type": "code",
   "execution_count": 30,
   "metadata": {},
   "outputs": [
    {
     "name": "stdout",
     "output_type": "stream",
     "text": [
      "log base e of h: 2.079 +/- 0.012\n",
      "log base 2 of h: 3.000 +/- 0.018\n"
     ]
    }
   ],
   "source": [
    "# the log function can take 1 or 2 arguments\n",
    "res = q.log(h)  # by default the base is e\n",
    "print(\"log base e of h: {}\".format(res))\n",
    "res = q.log(2, h)  # you can specify the base\n",
    "print(\"log base 2 of h: {}\".format(res))"
   ]
  },
  {
   "cell_type": "markdown",
   "metadata": {},
   "source": [
    "Right now unit propagation with functions is not yet supported. It will be implemented in future versions"
   ]
  }
 ],
 "metadata": {
  "kernelspec": {
   "display_name": "Python 3",
   "language": "python",
   "name": "python3"
  },
  "language_info": {
   "codemirror_mode": {
    "name": "ipython",
    "version": 3
   },
   "file_extension": ".py",
   "mimetype": "text/x-python",
   "name": "python",
   "nbconvert_exporter": "python",
   "pygments_lexer": "ipython3",
   "version": "3.7.7"
  }
 },
 "nbformat": 4,
 "nbformat_minor": 4
}
